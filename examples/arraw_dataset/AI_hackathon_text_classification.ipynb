{
  "nbformat": 4,
  "nbformat_minor": 0,
  "metadata": {
    "colab": {
      "name": "AI_hackathon_text_classification.ipynb",
      "provenance": [],
      "collapsed_sections": [],
      "authorship_tag": "ABX9TyPaOZ0xaPGCDq9V70Sti/Gz",
      "include_colab_link": true
    },
    "kernelspec": {
      "name": "python3",
      "display_name": "Python 3"
    },
    "accelerator": "GPU",
    "widgets": {
      "application/vnd.jupyter.widget-state+json": {
        "9cb08c7339a94484ba67f2c1d3cfd1f6": {
          "model_module": "@jupyter-widgets/controls",
          "model_name": "HBoxModel",
          "state": {
            "_view_name": "HBoxView",
            "_dom_classes": [],
            "_model_name": "HBoxModel",
            "_view_module": "@jupyter-widgets/controls",
            "_model_module_version": "1.5.0",
            "_view_count": null,
            "_view_module_version": "1.5.0",
            "box_style": "",
            "layout": "IPY_MODEL_a56704507ecb4225ae28b9ad3c02eb7c",
            "_model_module": "@jupyter-widgets/controls",
            "children": [
              "IPY_MODEL_a7a335657f1d422f96ae25f3b744e85c",
              "IPY_MODEL_acbfa4c816b745358dcd5ffa4ad2e03b"
            ]
          }
        },
        "a56704507ecb4225ae28b9ad3c02eb7c": {
          "model_module": "@jupyter-widgets/base",
          "model_name": "LayoutModel",
          "state": {
            "_view_name": "LayoutView",
            "grid_template_rows": null,
            "right": null,
            "justify_content": null,
            "_view_module": "@jupyter-widgets/base",
            "overflow": null,
            "_model_module_version": "1.2.0",
            "_view_count": null,
            "flex_flow": null,
            "width": null,
            "min_width": null,
            "border": null,
            "align_items": null,
            "bottom": null,
            "_model_module": "@jupyter-widgets/base",
            "top": null,
            "grid_column": null,
            "overflow_y": null,
            "overflow_x": null,
            "grid_auto_flow": null,
            "grid_area": null,
            "grid_template_columns": null,
            "flex": null,
            "_model_name": "LayoutModel",
            "justify_items": null,
            "grid_row": null,
            "max_height": null,
            "align_content": null,
            "visibility": null,
            "align_self": null,
            "height": null,
            "min_height": null,
            "padding": null,
            "grid_auto_rows": null,
            "grid_gap": null,
            "max_width": null,
            "order": null,
            "_view_module_version": "1.2.0",
            "grid_template_areas": null,
            "object_position": null,
            "object_fit": null,
            "grid_auto_columns": null,
            "margin": null,
            "display": null,
            "left": null
          }
        },
        "a7a335657f1d422f96ae25f3b744e85c": {
          "model_module": "@jupyter-widgets/controls",
          "model_name": "FloatProgressModel",
          "state": {
            "_view_name": "ProgressView",
            "style": "IPY_MODEL_91c27ac0d70748cebafb992071a3b127",
            "_dom_classes": [],
            "description": "100%",
            "_model_name": "FloatProgressModel",
            "bar_style": "success",
            "max": 120000,
            "_view_module": "@jupyter-widgets/controls",
            "_model_module_version": "1.5.0",
            "value": 120000,
            "_view_count": null,
            "_view_module_version": "1.5.0",
            "orientation": "horizontal",
            "min": 0,
            "description_tooltip": null,
            "_model_module": "@jupyter-widgets/controls",
            "layout": "IPY_MODEL_1c2009baced34a0f90be26ca690ddc34"
          }
        },
        "acbfa4c816b745358dcd5ffa4ad2e03b": {
          "model_module": "@jupyter-widgets/controls",
          "model_name": "HTMLModel",
          "state": {
            "_view_name": "HTMLView",
            "style": "IPY_MODEL_c68b596ebe0a45e38b519fb3196472df",
            "_dom_classes": [],
            "description": "",
            "_model_name": "HTMLModel",
            "placeholder": "​",
            "_view_module": "@jupyter-widgets/controls",
            "_model_module_version": "1.5.0",
            "value": " 120000/120000 [00:23&lt;00:00, 5097.48ex/s]",
            "_view_count": null,
            "_view_module_version": "1.5.0",
            "description_tooltip": null,
            "_model_module": "@jupyter-widgets/controls",
            "layout": "IPY_MODEL_3496d6a967504eb98cb1f0940ca31b23"
          }
        },
        "91c27ac0d70748cebafb992071a3b127": {
          "model_module": "@jupyter-widgets/controls",
          "model_name": "ProgressStyleModel",
          "state": {
            "_view_name": "StyleView",
            "_model_name": "ProgressStyleModel",
            "description_width": "initial",
            "_view_module": "@jupyter-widgets/base",
            "_model_module_version": "1.5.0",
            "_view_count": null,
            "_view_module_version": "1.2.0",
            "bar_color": null,
            "_model_module": "@jupyter-widgets/controls"
          }
        },
        "1c2009baced34a0f90be26ca690ddc34": {
          "model_module": "@jupyter-widgets/base",
          "model_name": "LayoutModel",
          "state": {
            "_view_name": "LayoutView",
            "grid_template_rows": null,
            "right": null,
            "justify_content": null,
            "_view_module": "@jupyter-widgets/base",
            "overflow": null,
            "_model_module_version": "1.2.0",
            "_view_count": null,
            "flex_flow": null,
            "width": null,
            "min_width": null,
            "border": null,
            "align_items": null,
            "bottom": null,
            "_model_module": "@jupyter-widgets/base",
            "top": null,
            "grid_column": null,
            "overflow_y": null,
            "overflow_x": null,
            "grid_auto_flow": null,
            "grid_area": null,
            "grid_template_columns": null,
            "flex": null,
            "_model_name": "LayoutModel",
            "justify_items": null,
            "grid_row": null,
            "max_height": null,
            "align_content": null,
            "visibility": null,
            "align_self": null,
            "height": null,
            "min_height": null,
            "padding": null,
            "grid_auto_rows": null,
            "grid_gap": null,
            "max_width": null,
            "order": null,
            "_view_module_version": "1.2.0",
            "grid_template_areas": null,
            "object_position": null,
            "object_fit": null,
            "grid_auto_columns": null,
            "margin": null,
            "display": null,
            "left": null
          }
        },
        "c68b596ebe0a45e38b519fb3196472df": {
          "model_module": "@jupyter-widgets/controls",
          "model_name": "DescriptionStyleModel",
          "state": {
            "_view_name": "StyleView",
            "_model_name": "DescriptionStyleModel",
            "description_width": "",
            "_view_module": "@jupyter-widgets/base",
            "_model_module_version": "1.5.0",
            "_view_count": null,
            "_view_module_version": "1.2.0",
            "_model_module": "@jupyter-widgets/controls"
          }
        },
        "3496d6a967504eb98cb1f0940ca31b23": {
          "model_module": "@jupyter-widgets/base",
          "model_name": "LayoutModel",
          "state": {
            "_view_name": "LayoutView",
            "grid_template_rows": null,
            "right": null,
            "justify_content": null,
            "_view_module": "@jupyter-widgets/base",
            "overflow": null,
            "_model_module_version": "1.2.0",
            "_view_count": null,
            "flex_flow": null,
            "width": null,
            "min_width": null,
            "border": null,
            "align_items": null,
            "bottom": null,
            "_model_module": "@jupyter-widgets/base",
            "top": null,
            "grid_column": null,
            "overflow_y": null,
            "overflow_x": null,
            "grid_auto_flow": null,
            "grid_area": null,
            "grid_template_columns": null,
            "flex": null,
            "_model_name": "LayoutModel",
            "justify_items": null,
            "grid_row": null,
            "max_height": null,
            "align_content": null,
            "visibility": null,
            "align_self": null,
            "height": null,
            "min_height": null,
            "padding": null,
            "grid_auto_rows": null,
            "grid_gap": null,
            "max_width": null,
            "order": null,
            "_view_module_version": "1.2.0",
            "grid_template_areas": null,
            "object_position": null,
            "object_fit": null,
            "grid_auto_columns": null,
            "margin": null,
            "display": null,
            "left": null
          }
        },
        "760e7d42b11248fc8058501d56e23667": {
          "model_module": "@jupyter-widgets/controls",
          "model_name": "HBoxModel",
          "state": {
            "_view_name": "HBoxView",
            "_dom_classes": [],
            "_model_name": "HBoxModel",
            "_view_module": "@jupyter-widgets/controls",
            "_model_module_version": "1.5.0",
            "_view_count": null,
            "_view_module_version": "1.5.0",
            "box_style": "",
            "layout": "IPY_MODEL_150eb1adc5934fa58050c5220ec17da1",
            "_model_module": "@jupyter-widgets/controls",
            "children": [
              "IPY_MODEL_533bc7237e47453cbc633884a31da407",
              "IPY_MODEL_237aec7095cb49218493d19f25a1f9aa"
            ]
          }
        },
        "150eb1adc5934fa58050c5220ec17da1": {
          "model_module": "@jupyter-widgets/base",
          "model_name": "LayoutModel",
          "state": {
            "_view_name": "LayoutView",
            "grid_template_rows": null,
            "right": null,
            "justify_content": null,
            "_view_module": "@jupyter-widgets/base",
            "overflow": null,
            "_model_module_version": "1.2.0",
            "_view_count": null,
            "flex_flow": null,
            "width": null,
            "min_width": null,
            "border": null,
            "align_items": null,
            "bottom": null,
            "_model_module": "@jupyter-widgets/base",
            "top": null,
            "grid_column": null,
            "overflow_y": null,
            "overflow_x": null,
            "grid_auto_flow": null,
            "grid_area": null,
            "grid_template_columns": null,
            "flex": null,
            "_model_name": "LayoutModel",
            "justify_items": null,
            "grid_row": null,
            "max_height": null,
            "align_content": null,
            "visibility": null,
            "align_self": null,
            "height": null,
            "min_height": null,
            "padding": null,
            "grid_auto_rows": null,
            "grid_gap": null,
            "max_width": null,
            "order": null,
            "_view_module_version": "1.2.0",
            "grid_template_areas": null,
            "object_position": null,
            "object_fit": null,
            "grid_auto_columns": null,
            "margin": null,
            "display": null,
            "left": null
          }
        },
        "533bc7237e47453cbc633884a31da407": {
          "model_module": "@jupyter-widgets/controls",
          "model_name": "FloatProgressModel",
          "state": {
            "_view_name": "ProgressView",
            "style": "IPY_MODEL_829706cb93184602b9ca678c1befe3f5",
            "_dom_classes": [],
            "description": "100%",
            "_model_name": "FloatProgressModel",
            "bar_style": "success",
            "max": 120000,
            "_view_module": "@jupyter-widgets/controls",
            "_model_module_version": "1.5.0",
            "value": 120000,
            "_view_count": null,
            "_view_module_version": "1.5.0",
            "orientation": "horizontal",
            "min": 0,
            "description_tooltip": null,
            "_model_module": "@jupyter-widgets/controls",
            "layout": "IPY_MODEL_3903403724af4880bd3bf69c3804b1ce"
          }
        },
        "237aec7095cb49218493d19f25a1f9aa": {
          "model_module": "@jupyter-widgets/controls",
          "model_name": "HTMLModel",
          "state": {
            "_view_name": "HTMLView",
            "style": "IPY_MODEL_50d1fab732994a7f8217a3955e75d63c",
            "_dom_classes": [],
            "description": "",
            "_model_name": "HTMLModel",
            "placeholder": "​",
            "_view_module": "@jupyter-widgets/controls",
            "_model_module_version": "1.5.0",
            "value": " 120000/120000 [00:19&lt;00:00, 6037.25ex/s]",
            "_view_count": null,
            "_view_module_version": "1.5.0",
            "description_tooltip": null,
            "_model_module": "@jupyter-widgets/controls",
            "layout": "IPY_MODEL_a9d225feef64443681c0a0f5eceeabde"
          }
        },
        "829706cb93184602b9ca678c1befe3f5": {
          "model_module": "@jupyter-widgets/controls",
          "model_name": "ProgressStyleModel",
          "state": {
            "_view_name": "StyleView",
            "_model_name": "ProgressStyleModel",
            "description_width": "initial",
            "_view_module": "@jupyter-widgets/base",
            "_model_module_version": "1.5.0",
            "_view_count": null,
            "_view_module_version": "1.2.0",
            "bar_color": null,
            "_model_module": "@jupyter-widgets/controls"
          }
        },
        "3903403724af4880bd3bf69c3804b1ce": {
          "model_module": "@jupyter-widgets/base",
          "model_name": "LayoutModel",
          "state": {
            "_view_name": "LayoutView",
            "grid_template_rows": null,
            "right": null,
            "justify_content": null,
            "_view_module": "@jupyter-widgets/base",
            "overflow": null,
            "_model_module_version": "1.2.0",
            "_view_count": null,
            "flex_flow": null,
            "width": null,
            "min_width": null,
            "border": null,
            "align_items": null,
            "bottom": null,
            "_model_module": "@jupyter-widgets/base",
            "top": null,
            "grid_column": null,
            "overflow_y": null,
            "overflow_x": null,
            "grid_auto_flow": null,
            "grid_area": null,
            "grid_template_columns": null,
            "flex": null,
            "_model_name": "LayoutModel",
            "justify_items": null,
            "grid_row": null,
            "max_height": null,
            "align_content": null,
            "visibility": null,
            "align_self": null,
            "height": null,
            "min_height": null,
            "padding": null,
            "grid_auto_rows": null,
            "grid_gap": null,
            "max_width": null,
            "order": null,
            "_view_module_version": "1.2.0",
            "grid_template_areas": null,
            "object_position": null,
            "object_fit": null,
            "grid_auto_columns": null,
            "margin": null,
            "display": null,
            "left": null
          }
        },
        "50d1fab732994a7f8217a3955e75d63c": {
          "model_module": "@jupyter-widgets/controls",
          "model_name": "DescriptionStyleModel",
          "state": {
            "_view_name": "StyleView",
            "_model_name": "DescriptionStyleModel",
            "description_width": "",
            "_view_module": "@jupyter-widgets/base",
            "_model_module_version": "1.5.0",
            "_view_count": null,
            "_view_module_version": "1.2.0",
            "_model_module": "@jupyter-widgets/controls"
          }
        },
        "a9d225feef64443681c0a0f5eceeabde": {
          "model_module": "@jupyter-widgets/base",
          "model_name": "LayoutModel",
          "state": {
            "_view_name": "LayoutView",
            "grid_template_rows": null,
            "right": null,
            "justify_content": null,
            "_view_module": "@jupyter-widgets/base",
            "overflow": null,
            "_model_module_version": "1.2.0",
            "_view_count": null,
            "flex_flow": null,
            "width": null,
            "min_width": null,
            "border": null,
            "align_items": null,
            "bottom": null,
            "_model_module": "@jupyter-widgets/base",
            "top": null,
            "grid_column": null,
            "overflow_y": null,
            "overflow_x": null,
            "grid_auto_flow": null,
            "grid_area": null,
            "grid_template_columns": null,
            "flex": null,
            "_model_name": "LayoutModel",
            "justify_items": null,
            "grid_row": null,
            "max_height": null,
            "align_content": null,
            "visibility": null,
            "align_self": null,
            "height": null,
            "min_height": null,
            "padding": null,
            "grid_auto_rows": null,
            "grid_gap": null,
            "max_width": null,
            "order": null,
            "_view_module_version": "1.2.0",
            "grid_template_areas": null,
            "object_position": null,
            "object_fit": null,
            "grid_auto_columns": null,
            "margin": null,
            "display": null,
            "left": null
          }
        },
        "168f51b912464e088a6e9f06c10a486b": {
          "model_module": "@jupyter-widgets/controls",
          "model_name": "HBoxModel",
          "state": {
            "_view_name": "HBoxView",
            "_dom_classes": [],
            "_model_name": "HBoxModel",
            "_view_module": "@jupyter-widgets/controls",
            "_model_module_version": "1.5.0",
            "_view_count": null,
            "_view_module_version": "1.5.0",
            "box_style": "",
            "layout": "IPY_MODEL_a6986de8fe73495c8969a74dca822b53",
            "_model_module": "@jupyter-widgets/controls",
            "children": [
              "IPY_MODEL_b70642d4b1ec4caea1dd5f891bc40e39",
              "IPY_MODEL_c72170fd0aa14572a97e4f68428dabf6"
            ]
          }
        },
        "a6986de8fe73495c8969a74dca822b53": {
          "model_module": "@jupyter-widgets/base",
          "model_name": "LayoutModel",
          "state": {
            "_view_name": "LayoutView",
            "grid_template_rows": null,
            "right": null,
            "justify_content": null,
            "_view_module": "@jupyter-widgets/base",
            "overflow": null,
            "_model_module_version": "1.2.0",
            "_view_count": null,
            "flex_flow": "row wrap",
            "width": "100%",
            "min_width": null,
            "border": null,
            "align_items": null,
            "bottom": null,
            "_model_module": "@jupyter-widgets/base",
            "top": null,
            "grid_column": null,
            "overflow_y": null,
            "overflow_x": null,
            "grid_auto_flow": null,
            "grid_area": null,
            "grid_template_columns": null,
            "flex": null,
            "_model_name": "LayoutModel",
            "justify_items": null,
            "grid_row": null,
            "max_height": null,
            "align_content": null,
            "visibility": null,
            "align_self": null,
            "height": null,
            "min_height": null,
            "padding": null,
            "grid_auto_rows": null,
            "grid_gap": null,
            "max_width": null,
            "order": null,
            "_view_module_version": "1.2.0",
            "grid_template_areas": null,
            "object_position": null,
            "object_fit": null,
            "grid_auto_columns": null,
            "margin": null,
            "display": "inline-flex",
            "left": null
          }
        },
        "b70642d4b1ec4caea1dd5f891bc40e39": {
          "model_module": "@jupyter-widgets/controls",
          "model_name": "FloatProgressModel",
          "state": {
            "_view_name": "ProgressView",
            "style": "IPY_MODEL_69a1b0afa92945fca321622206a4af91",
            "_dom_classes": [],
            "description": "Epoch 2: 100%",
            "_model_name": "FloatProgressModel",
            "bar_style": "success",
            "max": 7500,
            "_view_module": "@jupyter-widgets/controls",
            "_model_module_version": "1.5.0",
            "value": 7500,
            "_view_count": null,
            "_view_module_version": "1.5.0",
            "orientation": "horizontal",
            "min": 0,
            "description_tooltip": null,
            "_model_module": "@jupyter-widgets/controls",
            "layout": "IPY_MODEL_b4e2ac383abd422da250fe04b75e809e"
          }
        },
        "c72170fd0aa14572a97e4f68428dabf6": {
          "model_module": "@jupyter-widgets/controls",
          "model_name": "HTMLModel",
          "state": {
            "_view_name": "HTMLView",
            "style": "IPY_MODEL_358e0315858c4a879ef758e394ae46ee",
            "_dom_classes": [],
            "description": "",
            "_model_name": "HTMLModel",
            "placeholder": "​",
            "_view_module": "@jupyter-widgets/controls",
            "_model_module_version": "1.5.0",
            "value": " 7500/7500 [00:34&lt;00:00, 215.55it/s, loss=0.204, v_num=0]",
            "_view_count": null,
            "_view_module_version": "1.5.0",
            "description_tooltip": null,
            "_model_module": "@jupyter-widgets/controls",
            "layout": "IPY_MODEL_ae1ec1eaa07647dab89bcc7d401cff3a"
          }
        },
        "69a1b0afa92945fca321622206a4af91": {
          "model_module": "@jupyter-widgets/controls",
          "model_name": "ProgressStyleModel",
          "state": {
            "_view_name": "StyleView",
            "_model_name": "ProgressStyleModel",
            "description_width": "initial",
            "_view_module": "@jupyter-widgets/base",
            "_model_module_version": "1.5.0",
            "_view_count": null,
            "_view_module_version": "1.2.0",
            "bar_color": null,
            "_model_module": "@jupyter-widgets/controls"
          }
        },
        "b4e2ac383abd422da250fe04b75e809e": {
          "model_module": "@jupyter-widgets/base",
          "model_name": "LayoutModel",
          "state": {
            "_view_name": "LayoutView",
            "grid_template_rows": null,
            "right": null,
            "justify_content": null,
            "_view_module": "@jupyter-widgets/base",
            "overflow": null,
            "_model_module_version": "1.2.0",
            "_view_count": null,
            "flex_flow": null,
            "width": null,
            "min_width": null,
            "border": null,
            "align_items": null,
            "bottom": null,
            "_model_module": "@jupyter-widgets/base",
            "top": null,
            "grid_column": null,
            "overflow_y": null,
            "overflow_x": null,
            "grid_auto_flow": null,
            "grid_area": null,
            "grid_template_columns": null,
            "flex": "2",
            "_model_name": "LayoutModel",
            "justify_items": null,
            "grid_row": null,
            "max_height": null,
            "align_content": null,
            "visibility": null,
            "align_self": null,
            "height": null,
            "min_height": null,
            "padding": null,
            "grid_auto_rows": null,
            "grid_gap": null,
            "max_width": null,
            "order": null,
            "_view_module_version": "1.2.0",
            "grid_template_areas": null,
            "object_position": null,
            "object_fit": null,
            "grid_auto_columns": null,
            "margin": null,
            "display": null,
            "left": null
          }
        },
        "358e0315858c4a879ef758e394ae46ee": {
          "model_module": "@jupyter-widgets/controls",
          "model_name": "DescriptionStyleModel",
          "state": {
            "_view_name": "StyleView",
            "_model_name": "DescriptionStyleModel",
            "description_width": "",
            "_view_module": "@jupyter-widgets/base",
            "_model_module_version": "1.5.0",
            "_view_count": null,
            "_view_module_version": "1.2.0",
            "_model_module": "@jupyter-widgets/controls"
          }
        },
        "ae1ec1eaa07647dab89bcc7d401cff3a": {
          "model_module": "@jupyter-widgets/base",
          "model_name": "LayoutModel",
          "state": {
            "_view_name": "LayoutView",
            "grid_template_rows": null,
            "right": null,
            "justify_content": null,
            "_view_module": "@jupyter-widgets/base",
            "overflow": null,
            "_model_module_version": "1.2.0",
            "_view_count": null,
            "flex_flow": null,
            "width": null,
            "min_width": null,
            "border": null,
            "align_items": null,
            "bottom": null,
            "_model_module": "@jupyter-widgets/base",
            "top": null,
            "grid_column": null,
            "overflow_y": null,
            "overflow_x": null,
            "grid_auto_flow": null,
            "grid_area": null,
            "grid_template_columns": null,
            "flex": null,
            "_model_name": "LayoutModel",
            "justify_items": null,
            "grid_row": null,
            "max_height": null,
            "align_content": null,
            "visibility": null,
            "align_self": null,
            "height": null,
            "min_height": null,
            "padding": null,
            "grid_auto_rows": null,
            "grid_gap": null,
            "max_width": null,
            "order": null,
            "_view_module_version": "1.2.0",
            "grid_template_areas": null,
            "object_position": null,
            "object_fit": null,
            "grid_auto_columns": null,
            "margin": null,
            "display": null,
            "left": null
          }
        }
      }
    }
  },
  "cells": [
    {
      "cell_type": "markdown",
      "metadata": {
        "id": "view-in-github",
        "colab_type": "text"
      },
      "source": [
        "<a href=\"https://colab.research.google.com/github/zhangguanheng66/text/blob/arrow_dataset/examples/arraw_dataset/AI_hackathon_text_classification.ipynb\" target=\"_parent\"><img src=\"https://colab.research.google.com/assets/colab-badge.svg\" alt=\"Open In Colab\"/></a>"
      ]
    },
    {
      "cell_type": "code",
      "metadata": {
        "id": "_n1EZhGheu3a"
      },
      "source": [
        "%%capture\n",
        "\n",
        "!rm -r /usr/local/lib/python3.6/dist-packages/torch*;\n",
        "!pip install --pre torch torchtext -f https://download.pytorch.org/whl/nightly/cu101/torch_nightly.html;\n",
        "!pip install --upgrade --force-reinstall pyarrow;\n",
        "!pip install --upgrade --force-reinstall datasets;\n",
        "!pip install pytorch-lightning"
      ],
      "execution_count": 1,
      "outputs": []
    },
    {
      "cell_type": "markdown",
      "metadata": {
        "id": "hOINhw7ThVUn"
      },
      "source": [
        "## Prepare PyTorch-Lightning Module"
      ]
    },
    {
      "cell_type": "code",
      "metadata": {
        "id": "rYG3vSZehjJu"
      },
      "source": [
        "import torch\n",
        "from torch.nn import functional as F\n",
        "from torch import nn\n",
        "from pytorch_lightning.core.lightning import LightningModule\n",
        "\n",
        "class TextClassificationModel(LightningModule):\n",
        "\n",
        "  def __init__(self, vocab_size, embed_dim, num_class, learning_rate):\n",
        "    super().__init__()\n",
        "    self.embedding = nn.EmbeddingBag(vocab_size, embed_dim, sparse=True)\n",
        "    self.fc = nn.Linear(embed_dim, num_class)\n",
        "    self.lr = learning_rate\n",
        "    self.init_weights()\n",
        "\n",
        "  def init_weights(self):\n",
        "    initrange = 0.5\n",
        "    self.embedding.weight.data.uniform_(-initrange, initrange)\n",
        "    self.fc.weight.data.uniform_(-initrange, initrange)\n",
        "    self.fc.bias.data.zero_()\n",
        "\n",
        "  def forward(self, text, offsets):\n",
        "    embedded = self.embedding(text, offsets)\n",
        "    return self.fc(embedded)\n",
        "\n",
        "  def configure_optimizers(self):\n",
        "    return torch.optim.SGD(self.parameters(), lr=self.lr)\n",
        "\n",
        "  def training_step(self, batch, batch_idx):\n",
        "    labels, texts, offsets = batch\n",
        "    predited_label = self(texts, offsets)\n",
        "    loss = torch.nn.functional.cross_entropy(predited_label, labels)\n",
        "    return loss"
      ],
      "execution_count": 2,
      "outputs": []
    },
    {
      "cell_type": "markdown",
      "metadata": {
        "id": "KcSEYjr2NM8V"
      },
      "source": [
        "## Prepare data"
      ]
    },
    {
      "cell_type": "code",
      "metadata": {
        "id": "YTh7EkWoe4mZ"
      },
      "source": [
        "# import datasets as ds\n",
        "# from pathlib import Path\n",
        "\n",
        "# import pyarrow as pa\n",
        "# import pandas as pd\n",
        "# from torchtext.utils import download_from_url, unicode_csv_reader\n",
        "# import io\n",
        "\n",
        "# base_url = 'https://raw.githubusercontent.com/mhjabreel/CharCnn_Keras/master/data/ag_news_csv/'\n",
        "# train_filepath = download_from_url(base_url + 'train.csv')\n",
        "# test_filepath = download_from_url(base_url + 'test.csv')\n",
        "\n",
        "# def create_data_from_csv(data_path):\n",
        "#     with io.open(data_path, encoding=\"utf8\") as f:\n",
        "#         reader = unicode_csv_reader(f)\n",
        "#         for row in reader:\n",
        "#             yield (int(row[0]), ' '.join(row[1:]))\n",
        "\n",
        "# def convert_to_arrow(file_path, raw_data):\n",
        "#     \"\"\" Write labels and texts into HF dataset\"\"\"\n",
        "#     labels, texts = zip(*raw_data)    \n",
        "#     return ds.Dataset.from_dict(\n",
        "#         {\n",
        "#             \"labels\": labels,\n",
        "#             \"texts\": texts\n",
        "#         }).save_to_disk(file_path)\n",
        "    \n",
        "# raw_train_data = list(create_data_from_csv(train_filepath))\n",
        "# raw_test_data = list(create_data_from_csv(test_filepath))\n",
        "# train_ds = convert_to_arrow('train_arrow', raw_train_data)\n",
        "# test_ds = convert_to_arrow('test_arrow', raw_test_data)\n",
        "# train_ds = ds.Dataset.load_from_disk('train_arrow') # raw dataset\n",
        "# test_ds = ds.Dataset.load_from_disk('test_arrow')  # raw dataset"
      ],
      "execution_count": 3,
      "outputs": []
    },
    {
      "cell_type": "code",
      "metadata": {
        "id": "LmGVJI9ygEWI"
      },
      "source": [
        "# # Build vocabulary\n",
        "# from torchtext.experimental.vocab import build_vocab_from_iterator\n",
        "# from torchtext.experimental.transforms import basic_english_normalize\n",
        "# tokenizer = basic_english_normalize()\n",
        "# vocab = build_vocab_from_iterator(iter(tokenizer(line)\n",
        "#                                        for line in train_ds['texts']))\n",
        "# tokenizer = tokenizer.to_ivalue() # no need to call to_ivalue soon\n",
        "# vocab = vocab.to_ivalue() # no need to call to_ivalue soon"
      ],
      "execution_count": 4,
      "outputs": []
    },
    {
      "cell_type": "code",
      "metadata": {
        "id": "0elydZ87fABv"
      },
      "source": [
        "# # Process raw text data\n",
        "# # Call built-in map func to process the raw dataset\n",
        "# # the callable func must be pickable\n",
        "# def process_raw_data(arrow_ds):\n",
        "#   processed_arrow_ds = arrow_ds.map(function=lambda x: {'labels': int(x) - 1}, input_columns='labels')\n",
        "#   processed_arrow_ds = processed_arrow_ds.map(function=lambda x: {'texts': vocab(tokenizer(x))}, input_columns='texts')\n",
        "#   return processed_arrow_ds\n",
        "\n",
        "# processed_train_ds = process_raw_data(train_ds)\n",
        "# processed_test_ds = process_raw_data(test_ds)"
      ],
      "execution_count": 5,
      "outputs": []
    },
    {
      "cell_type": "markdown",
      "metadata": {
        "id": "m3s-yWvFg5yX"
      },
      "source": [
        "## Prepare DataLoader"
      ]
    },
    {
      "cell_type": "code",
      "metadata": {
        "id": "1hctLaKufBzd"
      },
      "source": [
        "# import torch\n",
        "# device = torch.device(\"cuda\" if torch.cuda.is_available() else \"cpu\")\n",
        "\n",
        "# def generate_batch(batch):\n",
        "#     label_list, text_list, offsets = [], [], [0]\n",
        "#     for item in batch:\n",
        "#         #  print(item)\n",
        "#          label_list.append(item['labels'])\n",
        "#          processed_text = torch.tensor(item['texts'], dtype=torch.int64)\n",
        "#          text_list.append(processed_text)\n",
        "#          offsets.append(processed_text.size(0))\n",
        "#     label_list = torch.tensor(label_list, dtype=torch.int64)\n",
        "#     offsets = torch.tensor(offsets[:-1]).cumsum(dim=0)\n",
        "#     text_list = torch.cat(text_list)\n",
        "#     return label_list, text_list, offsets    \n",
        "\n",
        "# train_dataloader = torch.utils.data.DataLoader(processed_train_ds, shuffle=True,\n",
        "#                                                batch_size=16, num_workers=2,\n",
        "#                                                collate_fn=generate_batch)\n",
        "# test_dataloader = torch.utils.data.DataLoader(processed_test_ds, shuffle=True,\n",
        "#                                               batch_size=16, num_workers=2,\n",
        "#                                               collate_fn=generate_batch)"
      ],
      "execution_count": 6,
      "outputs": []
    },
    {
      "cell_type": "markdown",
      "metadata": {
        "id": "xEx4TRklNiIt"
      },
      "source": [
        "## [WIP] Preapre PL DataModule"
      ]
    },
    {
      "cell_type": "code",
      "metadata": {
        "id": "k1t6IvJoNhc7"
      },
      "source": [
        "import io\n",
        "import torch\n",
        "import datasets as ds\n",
        "from torchtext.experimental.vocab import build_vocab_from_iterator\n",
        "from torchtext.experimental.transforms import basic_english_normalize\n",
        "from torchtext.utils import download_from_url, unicode_csv_reader\n",
        "from pytorch_lightning import LightningDataModule\n",
        "\n",
        "def create_data_from_csv(data_path):\n",
        "    with io.open(data_path, encoding=\"utf8\") as f:\n",
        "        reader = unicode_csv_reader(f)\n",
        "        for row in reader:\n",
        "            yield (int(row[0]), ' '.join(row[1:]))\n",
        "\n",
        "def convert_to_arrow(file_path, raw_data):\n",
        "    \"\"\" Write labels and texts into HF dataset\"\"\"\n",
        "    labels, texts = zip(*raw_data)    \n",
        "    return ds.Dataset.from_dict(\n",
        "        {\n",
        "            \"labels\": labels,\n",
        "            \"texts\": texts\n",
        "        }).save_to_disk(file_path)\n",
        "\n",
        "def process_raw_data(arrow_ds, tokenizer, vocab):\n",
        "    processed_arrow_ds = arrow_ds.map(function=lambda x: {'labels': int(x) - 1}, input_columns='labels')\n",
        "    processed_arrow_ds = processed_arrow_ds.map(function=lambda x: {'texts': vocab(tokenizer(x))}, input_columns='texts')\n",
        "    return processed_arrow_ds\n",
        "\n",
        "def generate_batch(batch):\n",
        "    label_list, text_list, offsets = [], [], [0]\n",
        "    for item in batch:\n",
        "        #  print(item)\n",
        "         label_list.append(item['labels'])\n",
        "         processed_text = torch.tensor(item['texts'], dtype=torch.int64)\n",
        "         text_list.append(processed_text)\n",
        "         offsets.append(processed_text.size(0))\n",
        "    label_list = torch.tensor(label_list, dtype=torch.int64)\n",
        "    offsets = torch.tensor(offsets[:-1]).cumsum(dim=0)\n",
        "    text_list = torch.cat(text_list)\n",
        "    return label_list, text_list, offsets    \n",
        "\n",
        "class TextClassificationDataModule(LightningDataModule):\n",
        "    def __init__(self):\n",
        "        super().__init__()\n",
        "        self.base_url = 'https://raw.githubusercontent.com/mhjabreel/CharCnn_Keras/master/data/ag_news_csv/'\n",
        "        self.train_filepath = download_from_url(self.base_url + 'train.csv')\n",
        "        self.test_filepath = download_from_url(self.base_url + 'test.csv')\n",
        "        raw_train_data = list(create_data_from_csv(self.train_filepath))\n",
        "        raw_test_data = list(create_data_from_csv(self.test_filepath))\n",
        "        train_ds = convert_to_arrow('train_arrow', raw_train_data)\n",
        "        test_ds = convert_to_arrow('test_arrow', raw_test_data)\n",
        "        # self.tokenizer = None\n",
        "        # Build vocabulary\n",
        "        self.tokenizer = basic_english_normalize().to_ivalue()\n",
        "        train_ds = ds.Dataset.load_from_disk('train_arrow')\n",
        "        self.vocab = build_vocab_from_iterator(iter(self.tokenizer(line)\n",
        "                                       for line in train_ds['texts'])).to_ivalue()\n",
        "\n",
        "    def setup(self, stage):\n",
        "        # raw_train_data = list(create_data_from_csv(self.train_filepath))\n",
        "        # raw_test_data = list(create_data_from_csv(self.test_filepath))\n",
        "        # train_ds = convert_to_arrow('train_arrow', raw_train_data)\n",
        "        # test_ds = convert_to_arrow('test_arrow', raw_test_data)\n",
        "        self.train = ds.Dataset.load_from_disk('train_arrow') # raw dataset\n",
        "        self.valid = ds.Dataset.load_from_disk('test_arrow')  # raw dataset\n",
        "\n",
        "        # Build vocabulary\n",
        "        # self.tokenizer = basic_english_normalize().to_ivalue()\n",
        "        # self.vocab = build_vocab_from_iterator(iter(self.tokenizer(line)\n",
        "        #                                for line in self.train['texts'])).to_ivalue()\n",
        "\n",
        "    def train_dataloader(self):\n",
        "        self.train = process_raw_data(self.train, self.tokenizer, self.vocab)\n",
        "        return torch.utils.data.DataLoader(self.train, shuffle=True,\n",
        "                                               batch_size=16, num_workers=1,\n",
        "                                               collate_fn=generate_batch)\n",
        "        \n",
        "    def valid_dataloader(self):\n",
        "        self.valid = process_raw_data(self.valid, self.tokenizer, self.vocab)\n",
        "        return torch.utils.data.DataLoader(self.valid, shuffle=True,\n",
        "                                               batch_size=16, num_workers=1,\n",
        "                                               collate_fn=generate_batch)\n",
        "\n",
        "# base_url = 'https://raw.githubusercontent.com/mhjabreel/CharCnn_Keras/master/data/ag_news_csv/'\n",
        "# train_filepath = download_from_url(base_url + 'train.csv')\n",
        "# test_filepath = download_from_url(base_url + 'test.csv')\n",
        "\n",
        "# def create_data_from_csv(data_path):\n",
        "#     with io.open(data_path, encoding=\"utf8\") as f:\n",
        "#         reader = unicode_csv_reader(f)\n",
        "#         for row in reader:\n",
        "#             yield (int(row[0]), ' '.join(row[1:]))\n",
        "\n",
        "# def convert_to_arrow(file_path, raw_data):\n",
        "#     \"\"\" Write labels and texts into HF dataset\"\"\"\n",
        "#     labels, texts = zip(*raw_data)    \n",
        "#     return ds.Dataset.from_dict(\n",
        "#         {\n",
        "#             \"labels\": labels,\n",
        "#             \"texts\": texts\n",
        "#         }).save_to_disk(file_path)\n",
        "    \n",
        "# raw_train_data = list(create_data_from_csv(train_filepath))\n",
        "# raw_test_data = list(create_data_from_csv(test_filepath))\n",
        "# train_ds = convert_to_arrow('train_arrow', raw_train_data)\n",
        "# test_ds = convert_to_arrow('test_arrow', raw_test_data)\n",
        "# train_ds = ds.Dataset.load_from_disk('train_arrow') # raw dataset\n",
        "# test_ds = ds.Dataset.load_from_disk('test_arrow')  # raw dataset\n",
        "\n",
        "# # Build vocabulary\n",
        "# from torchtext.experimental.vocab import build_vocab_from_iterator\n",
        "# from torchtext.experimental.transforms import basic_english_normalize\n",
        "# tokenizer = basic_english_normalize()\n",
        "# vocab = build_vocab_from_iterator(iter(tokenizer(line)\n",
        "#                                        for line in train_ds['texts']))\n",
        "# tokenizer = tokenizer.to_ivalue() # no need to call to_ivalue soon\n",
        "# vocab = vocab.to_ivalue() # no need to call to_ivalue soon\n",
        "\n",
        "# def process_raw_data(arrow_ds):\n",
        "#   processed_arrow_ds = arrow_ds.map(function=lambda x: {'labels': int(x) - 1}, input_columns='labels')\n",
        "#   processed_arrow_ds = processed_arrow_ds.map(function=lambda x: {'texts': vocab(tokenizer(x))}, input_columns='texts')\n",
        "#   return processed_arrow_ds\n",
        "\n",
        "# processed_train_ds = process_raw_data(train_ds)\n",
        "# processed_test_ds = process_raw_data(test_ds)"
      ],
      "execution_count": 25,
      "outputs": []
    },
    {
      "cell_type": "markdown",
      "metadata": {
        "id": "Fji4nJGVNWYV"
      },
      "source": [
        "## Initiate PyTorch-Lightning Trainer"
      ]
    },
    {
      "cell_type": "code",
      "metadata": {
        "colab": {
          "base_uri": "https://localhost:8080/",
          "height": 507,
          "referenced_widgets": [
            "9cb08c7339a94484ba67f2c1d3cfd1f6",
            "a56704507ecb4225ae28b9ad3c02eb7c",
            "a7a335657f1d422f96ae25f3b744e85c",
            "acbfa4c816b745358dcd5ffa4ad2e03b",
            "91c27ac0d70748cebafb992071a3b127",
            "1c2009baced34a0f90be26ca690ddc34",
            "c68b596ebe0a45e38b519fb3196472df",
            "3496d6a967504eb98cb1f0940ca31b23",
            "760e7d42b11248fc8058501d56e23667",
            "150eb1adc5934fa58050c5220ec17da1",
            "533bc7237e47453cbc633884a31da407",
            "237aec7095cb49218493d19f25a1f9aa",
            "829706cb93184602b9ca678c1befe3f5",
            "3903403724af4880bd3bf69c3804b1ce",
            "50d1fab732994a7f8217a3955e75d63c",
            "a9d225feef64443681c0a0f5eceeabde",
            "168f51b912464e088a6e9f06c10a486b",
            "a6986de8fe73495c8969a74dca822b53",
            "b70642d4b1ec4caea1dd5f891bc40e39",
            "c72170fd0aa14572a97e4f68428dabf6",
            "69a1b0afa92945fca321622206a4af91",
            "b4e2ac383abd422da250fe04b75e809e",
            "358e0315858c4a879ef758e394ae46ee",
            "ae1ec1eaa07647dab89bcc7d401cff3a"
          ]
        },
        "id": "bYMQBD7RnjaE",
        "outputId": "a20aa339-3b2d-46c8-eecf-e01438860e51"
      },
      "source": [
        "from pytorch_lightning import Trainer\n",
        "LR = 5  # learning rate\n",
        "NUM_CLASS = 4\n",
        "EMBED = 256\n",
        "\n",
        "data_module = TextClassificationDataModule()\n",
        "model = TextClassificationModel(len(data_module.vocab), EMBED, NUM_CLASS, LR)\n",
        "trainer = Trainer(gpus=1, max_epochs=3, progress_bar_refresh_rate=40)\n",
        "trainer.fit(model, data_module)"
      ],
      "execution_count": 26,
      "outputs": [
        {
          "output_type": "stream",
          "text": [
            "/usr/local/lib/python3.6/dist-packages/torchtext/experimental/vocab.py:142: RuntimeWarning: The `unk_token` '<unk>' wasn't found in the `ordered_dict`. Adding the `unk_token` to the beginning of the Vocab.\n",
            "  \"to the beginning of the Vocab.\".format(unk_token), RuntimeWarning)\n",
            "GPU available: True, used: True\n",
            "INFO:lightning:GPU available: True, used: True\n",
            "TPU available: False, using: 0 TPU cores\n",
            "INFO:lightning:TPU available: False, using: 0 TPU cores\n",
            "LOCAL_RANK: 0 - CUDA_VISIBLE_DEVICES: [0]\n",
            "INFO:lightning:LOCAL_RANK: 0 - CUDA_VISIBLE_DEVICES: [0]\n",
            "\n",
            "  | Name      | Type         | Params\n",
            "-------------------------------------------\n",
            "0 | embedding | EmbeddingBag | 24.5 M\n",
            "1 | fc        | Linear       | 1.0 K \n",
            "INFO:lightning:\n",
            "  | Name      | Type         | Params\n",
            "-------------------------------------------\n",
            "0 | embedding | EmbeddingBag | 24.5 M\n",
            "1 | fc        | Linear       | 1.0 K \n"
          ],
          "name": "stderr"
        },
        {
          "output_type": "display_data",
          "data": {
            "application/vnd.jupyter.widget-view+json": {
              "model_id": "9cb08c7339a94484ba67f2c1d3cfd1f6",
              "version_minor": 0,
              "version_major": 2
            },
            "text/plain": [
              "HBox(children=(FloatProgress(value=0.0, max=120000.0), HTML(value='')))"
            ]
          },
          "metadata": {
            "tags": []
          }
        },
        {
          "output_type": "stream",
          "text": [
            "\n"
          ],
          "name": "stdout"
        },
        {
          "output_type": "display_data",
          "data": {
            "application/vnd.jupyter.widget-view+json": {
              "model_id": "760e7d42b11248fc8058501d56e23667",
              "version_minor": 0,
              "version_major": 2
            },
            "text/plain": [
              "HBox(children=(FloatProgress(value=0.0, max=120000.0), HTML(value='')))"
            ]
          },
          "metadata": {
            "tags": []
          }
        },
        {
          "output_type": "stream",
          "text": [
            "\n"
          ],
          "name": "stdout"
        },
        {
          "output_type": "display_data",
          "data": {
            "application/vnd.jupyter.widget-view+json": {
              "model_id": "168f51b912464e088a6e9f06c10a486b",
              "version_minor": 0,
              "version_major": 2
            },
            "text/plain": [
              "HBox(children=(FloatProgress(value=1.0, bar_style='info', description='Training', layout=Layout(flex='2'), max…"
            ]
          },
          "metadata": {
            "tags": []
          }
        },
        {
          "output_type": "stream",
          "text": [
            "\n"
          ],
          "name": "stdout"
        },
        {
          "output_type": "execute_result",
          "data": {
            "text/plain": [
              "1"
            ]
          },
          "metadata": {
            "tags": []
          },
          "execution_count": 26
        }
      ]
    }
  ]
}